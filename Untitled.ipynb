{
 "cells": [
  {
   "cell_type": "code",
   "execution_count": 35,
   "id": "9781c96b",
   "metadata": {},
   "outputs": [],
   "source": [
    "from pyspark.sql import SparkSession\n",
    "spark = SparkSession.builder.master(\"local[1]\").appName(\"Sample\").getOrCreate()\n"
   ]
  },
  {
   "cell_type": "code",
   "execution_count": 36,
   "id": "a240a2d7",
   "metadata": {},
   "outputs": [
    {
     "name": "stdout",
     "output_type": "stream",
     "text": [
      "http://DESKTOP-EI4R9B8:4040\n"
     ]
    }
   ],
   "source": [
    "print(spark.sparkContext.uiWebUrl)"
   ]
  },
  {
   "cell_type": "code",
   "execution_count": 37,
   "id": "f13beb11",
   "metadata": {},
   "outputs": [
    {
     "name": "stdout",
     "output_type": "stream",
     "text": [
      "['hello']\n"
     ]
    }
   ],
   "source": [
    "text = spark.sparkContext.textFile(r\"C:\\Users\\viswa\\Downloads\\testing2.txt\")\n",
    "print(text.collect())"
   ]
  },
  {
   "cell_type": "code",
   "execution_count": 133,
   "id": "ee0780dd",
   "metadata": {},
   "outputs": [],
   "source": [
    "iris = spark.read.format(\"csv\").option(\"header\",True).load(r\"C:\\Users\\viswa\\Downloads\\iris.csv\")"
   ]
  },
  {
   "cell_type": "code",
   "execution_count": 93,
   "id": "c3a0a08a",
   "metadata": {},
   "outputs": [
    {
     "name": "stdout",
     "output_type": "stream",
     "text": [
      "StructType([StructField('Sepal.Length', DoubleType(), True), StructField('Sepal.Width', DoubleType(), True), StructField('Petal.Length', DoubleType(), True), StructField('Petal.Width', DoubleType(), True), StructField('Species', StringType(), True)])\n"
     ]
    }
   ],
   "source": [
    "print(iris.schema)"
   ]
  },
  {
   "cell_type": "code",
   "execution_count": 102,
   "id": "ef039af5",
   "metadata": {},
   "outputs": [
    {
     "name": "stdout",
     "output_type": "stream",
     "text": [
      "ParallelCollectionRDD[181] at readRDDFromFile at PythonRDD.scala:289\n"
     ]
    }
   ],
   "source": [
    "data = [1,23,4,5,6,7,8,9,10,11,12,13,14,15]\n",
    "rdd = spark.sparkContext.parallelize(data)\n",
    "print(rdd)"
   ]
  },
  {
   "cell_type": "code",
   "execution_count": 108,
   "id": "8a818b77",
   "metadata": {},
   "outputs": [],
   "source": [
    "data2 = spark.read.json(r\"C:\\Users\\viswa\\Downloads\\Employee.json\", multiLine=True)"
   ]
  },
  {
   "cell_type": "code",
   "execution_count": 120,
   "id": "dfd6e99c",
   "metadata": {},
   "outputs": [
    {
     "name": "stdout",
     "output_type": "stream",
     "text": [
      "+---------+--------+--------------------+\n",
      "|firstName|lastName|               email|\n",
      "+---------+--------+--------------------+\n",
      "|     John|     Doe|john.doe@example.com|\n",
      "|     Jane|   Smith|jane.smith@exampl...|\n",
      "|      Bob| Johnson|bob.johnson@examp...|\n",
      "+---------+--------+--------------------+\n",
      "\n"
     ]
    }
   ],
   "source": [
    "data2.select(\"firstName\",\"lastName\",\"email\").show()"
   ]
  },
  {
   "cell_type": "code",
   "execution_count": 129,
   "id": "2835e0ef",
   "metadata": {},
   "outputs": [
    {
     "name": "stdout",
     "output_type": "stream",
     "text": [
      "org.apache.spark.api.java.JavaPairRDD@52e12383\n"
     ]
    }
   ],
   "source": [
    "data3 = spark.sparkContext.wholeTextFiles(r\"C:\\Users\\viswa\\Downloads\\EnactedGarden.txt\")\n",
    "print(data3)"
   ]
  },
  {
   "cell_type": "code",
   "execution_count": 134,
   "id": "5d942c0e",
   "metadata": {},
   "outputs": [
    {
     "name": "stdout",
     "output_type": "stream",
     "text": [
      "root\n",
      " |-- Sepal.Length: string (nullable = true)\n",
      " |-- Sepal.Width: string (nullable = true)\n",
      " |-- Petal.Length: string (nullable = true)\n",
      " |-- Petal.Width: string (nullable = true)\n",
      " |-- Species: string (nullable = true)\n",
      "\n"
     ]
    }
   ],
   "source": [
    "iris.printSchema()"
   ]
  },
  {
   "cell_type": "code",
   "execution_count": 248,
   "id": "1afac4d5",
   "metadata": {},
   "outputs": [],
   "source": [
    "#Reading multiple CSV files\n",
    "data5 = spark.read.format(\"csv\").options(header=\"True\",delimiter=\",\",inferSchema=\"True\").load(r\"C:\\Users\\viswa\\Downloads\\MarketShareofOperatingSystems\\MarketShareofOperatingSystems\\*.csv\")"
   ]
  },
  {
   "cell_type": "code",
   "execution_count": 249,
   "id": "c99be802",
   "metadata": {},
   "outputs": [
    {
     "name": "stdout",
     "output_type": "stream",
     "text": [
      "DataFrame[Date: string, iOS 10.3: string, iOS 12.1: string, iOS 13.3: string, iOS 11.2: string, iOS 11.4: string, iOS 14.4: string, iOS 12.4: string, iOS 15.6: string, iOS 12.3: string, iOS 11.0: string, iOS 9.3: string, iOS 11.3: string, iOS 16.1: string, iOS 16.3: string, iOS 14.7: string, iOS 14.6: string, iOS 15.5: string, iOS 12.2: string, iOS 13.1: string, iOS 11.1: string, iOS 12.0: string, iOS 13.5: double, iOS 16.6: string, iOS 14.8: string, iOS 14.2: double, iOS 15.4: double, iOS 16.0: double, iOS 15.1: double, iOS 13.6: double, iOS 15.3: double, iOS 10.2: double, iOS 16.5: double, iOS 13.4: double, iOS 12.5: double, iOS 14.3: double, iOS 16.2: double, iOS 13.7: double, iOS 14.0: double, iOS 15.7: double, iOS 15.2: double, iOS 16.4: double, iOS 15.0: double, iOS 14.1: double, iOS 13.2: double, iOS 10.1: double, iOS 10.0: double, iOS 17.0: double, iOS 14.5: double, iOS 7.1: double, iOS 7.0: double, iOS 6.0: double, iOS 17.1: double, iOS 9.2: double, iOS 13.0: double, iOS 8.4: double, iOS 8.1: double, iOS 16.7: double, iOS 9.1: double, iOS 6.1: double, iOS 5.1: double, iOS 8.3: double, iOS 9.0: double, iOS 5.0: double, iOS 8.0: double, iOS 8.2: double, iOS 4.3: double, iOS 15.8: double, iOS 3.2: double, Other: double]\n"
     ]
    }
   ],
   "source": [
    "print(data5)"
   ]
  },
  {
   "cell_type": "code",
   "execution_count": 255,
   "id": "e88f9d11",
   "metadata": {},
   "outputs": [
    {
     "ename": "AnalysisException",
     "evalue": "[PATH_ALREADY_EXISTS] Path file:/C:/Users/viswa/Downloads/MarketShareofOperatingSystems/test already exists. Set mode as \"overwrite\" to overwrite the existing path.",
     "output_type": "error",
     "traceback": [
      "\u001b[1;31m---------------------------------------------------------------------------\u001b[0m",
      "\u001b[1;31mAnalysisException\u001b[0m                         Traceback (most recent call last)",
      "Cell \u001b[1;32mIn[255], line 1\u001b[0m\n\u001b[1;32m----> 1\u001b[0m data5\u001b[38;5;241m.\u001b[39mwrite\u001b[38;5;241m.\u001b[39mcsv(\u001b[38;5;124mr\u001b[39m\u001b[38;5;124m\"\u001b[39m\u001b[38;5;124mC:\u001b[39m\u001b[38;5;124m\\\u001b[39m\u001b[38;5;124mUsers\u001b[39m\u001b[38;5;124m\\\u001b[39m\u001b[38;5;124mviswa\u001b[39m\u001b[38;5;124m\\\u001b[39m\u001b[38;5;124mDownloads\u001b[39m\u001b[38;5;124m\\\u001b[39m\u001b[38;5;124mMarketShareofOperatingSystems\u001b[39m\u001b[38;5;124m\\\u001b[39m\u001b[38;5;124mtest\u001b[39m\u001b[38;5;124m\"\u001b[39m)\n",
      "File \u001b[1;32mC:\\ProgramData\\anaconda3\\Lib\\site-packages\\pyspark\\sql\\readwriter.py:1864\u001b[0m, in \u001b[0;36mDataFrameWriter.csv\u001b[1;34m(self, path, mode, compression, sep, quote, escape, header, nullValue, escapeQuotes, quoteAll, dateFormat, timestampFormat, ignoreLeadingWhiteSpace, ignoreTrailingWhiteSpace, charToEscapeQuoteEscaping, encoding, emptyValue, lineSep)\u001b[0m\n\u001b[0;32m   1845\u001b[0m \u001b[38;5;28mself\u001b[39m\u001b[38;5;241m.\u001b[39mmode(mode)\n\u001b[0;32m   1846\u001b[0m \u001b[38;5;28mself\u001b[39m\u001b[38;5;241m.\u001b[39m_set_opts(\n\u001b[0;32m   1847\u001b[0m     compression\u001b[38;5;241m=\u001b[39mcompression,\n\u001b[0;32m   1848\u001b[0m     sep\u001b[38;5;241m=\u001b[39msep,\n\u001b[1;32m   (...)\u001b[0m\n\u001b[0;32m   1862\u001b[0m     lineSep\u001b[38;5;241m=\u001b[39mlineSep,\n\u001b[0;32m   1863\u001b[0m )\n\u001b[1;32m-> 1864\u001b[0m \u001b[38;5;28mself\u001b[39m\u001b[38;5;241m.\u001b[39m_jwrite\u001b[38;5;241m.\u001b[39mcsv(path)\n",
      "File \u001b[1;32mC:\\ProgramData\\anaconda3\\Lib\\site-packages\\py4j\\java_gateway.py:1322\u001b[0m, in \u001b[0;36mJavaMember.__call__\u001b[1;34m(self, *args)\u001b[0m\n\u001b[0;32m   1316\u001b[0m command \u001b[38;5;241m=\u001b[39m proto\u001b[38;5;241m.\u001b[39mCALL_COMMAND_NAME \u001b[38;5;241m+\u001b[39m\\\n\u001b[0;32m   1317\u001b[0m     \u001b[38;5;28mself\u001b[39m\u001b[38;5;241m.\u001b[39mcommand_header \u001b[38;5;241m+\u001b[39m\\\n\u001b[0;32m   1318\u001b[0m     args_command \u001b[38;5;241m+\u001b[39m\\\n\u001b[0;32m   1319\u001b[0m     proto\u001b[38;5;241m.\u001b[39mEND_COMMAND_PART\n\u001b[0;32m   1321\u001b[0m answer \u001b[38;5;241m=\u001b[39m \u001b[38;5;28mself\u001b[39m\u001b[38;5;241m.\u001b[39mgateway_client\u001b[38;5;241m.\u001b[39msend_command(command)\n\u001b[1;32m-> 1322\u001b[0m return_value \u001b[38;5;241m=\u001b[39m get_return_value(\n\u001b[0;32m   1323\u001b[0m     answer, \u001b[38;5;28mself\u001b[39m\u001b[38;5;241m.\u001b[39mgateway_client, \u001b[38;5;28mself\u001b[39m\u001b[38;5;241m.\u001b[39mtarget_id, \u001b[38;5;28mself\u001b[39m\u001b[38;5;241m.\u001b[39mname)\n\u001b[0;32m   1325\u001b[0m \u001b[38;5;28;01mfor\u001b[39;00m temp_arg \u001b[38;5;129;01min\u001b[39;00m temp_args:\n\u001b[0;32m   1326\u001b[0m     \u001b[38;5;28;01mif\u001b[39;00m \u001b[38;5;28mhasattr\u001b[39m(temp_arg, \u001b[38;5;124m\"\u001b[39m\u001b[38;5;124m_detach\u001b[39m\u001b[38;5;124m\"\u001b[39m):\n",
      "File \u001b[1;32mC:\\ProgramData\\anaconda3\\Lib\\site-packages\\pyspark\\errors\\exceptions\\captured.py:185\u001b[0m, in \u001b[0;36mcapture_sql_exception.<locals>.deco\u001b[1;34m(*a, **kw)\u001b[0m\n\u001b[0;32m    181\u001b[0m converted \u001b[38;5;241m=\u001b[39m convert_exception(e\u001b[38;5;241m.\u001b[39mjava_exception)\n\u001b[0;32m    182\u001b[0m \u001b[38;5;28;01mif\u001b[39;00m \u001b[38;5;129;01mnot\u001b[39;00m \u001b[38;5;28misinstance\u001b[39m(converted, UnknownException):\n\u001b[0;32m    183\u001b[0m     \u001b[38;5;66;03m# Hide where the exception came from that shows a non-Pythonic\u001b[39;00m\n\u001b[0;32m    184\u001b[0m     \u001b[38;5;66;03m# JVM exception message.\u001b[39;00m\n\u001b[1;32m--> 185\u001b[0m     \u001b[38;5;28;01mraise\u001b[39;00m converted \u001b[38;5;28;01mfrom\u001b[39;00m \u001b[38;5;28;01mNone\u001b[39;00m\n\u001b[0;32m    186\u001b[0m \u001b[38;5;28;01melse\u001b[39;00m:\n\u001b[0;32m    187\u001b[0m     \u001b[38;5;28;01mraise\u001b[39;00m\n",
      "\u001b[1;31mAnalysisException\u001b[0m: [PATH_ALREADY_EXISTS] Path file:/C:/Users/viswa/Downloads/MarketShareofOperatingSystems/test already exists. Set mode as \"overwrite\" to overwrite the existing path."
     ]
    }
   ],
   "source": [
    "data5.write.csv(r\"C:\\Users\\viswa\\Downloads\\MarketShareofOperatingSystems\\test\")"
   ]
  },
  {
   "cell_type": "code",
   "execution_count": 263,
   "id": "526c3af9",
   "metadata": {},
   "outputs": [
    {
     "name": "stdout",
     "output_type": "stream",
     "text": [
      "EmptyRDD[842] at emptyRDD at NativeMethodAccessorImpl.java:0\n",
      "ParallelCollectionRDD[846] at readRDDFromFile at PythonRDD.scala:289\n"
     ]
    }
   ],
   "source": [
    "#Creating empty RDD\n",
    "\n",
    "rdd1 = spark.sparkContext.emptyRDD()\n",
    "print(rdd4)\n",
    "rdd2 = spark.sparkContext.parallelize([])\n",
    "print(rdd2)"
   ]
  },
  {
   "cell_type": "code",
   "execution_count": 283,
   "id": "2fda9fb8",
   "metadata": {},
   "outputs": [],
   "source": [
    "#let's create Schema\n",
    "from pyspark.sql.types import StructType, StringType,StructField\n",
    "schema = StructType([\n",
    "StructField(\"firstname\",StringType(), True),\n",
    "StructField(\"secondname\",StringType(), True),\n",
    "StructField(\"PhoneNumber\",StringType(), True)\n",
    "]\n",
    ")"
   ]
  },
  {
   "cell_type": "code",
   "execution_count": 286,
   "id": "c02ca49d",
   "metadata": {},
   "outputs": [
    {
     "name": "stdout",
     "output_type": "stream",
     "text": [
      "root\n",
      " |-- firstname: string (nullable = true)\n",
      " |-- secondname: string (nullable = true)\n",
      " |-- PhoneNumber: string (nullable = true)\n",
      "\n"
     ]
    }
   ],
   "source": [
    "da = spark.createDataFrame(rdd1,schema)\n",
    "da.printSchema()"
   ]
  },
  {
   "cell_type": "code",
   "execution_count": 290,
   "id": "63890c20",
   "metadata": {},
   "outputs": [
    {
     "name": "stdout",
     "output_type": "stream",
     "text": [
      "root\n",
      " |-- firstname: string (nullable = true)\n",
      " |-- secondname: string (nullable = true)\n",
      " |-- PhoneNumber: string (nullable = true)\n",
      "\n"
     ]
    }
   ],
   "source": [
    "df = rdd1.toDF(schema)\n",
    "df.printSchema()"
   ]
  }
 ],
 "metadata": {
  "kernelspec": {
   "display_name": "Python 3 (ipykernel)",
   "language": "python",
   "name": "python3"
  },
  "language_info": {
   "codemirror_mode": {
    "name": "ipython",
    "version": 3
   },
   "file_extension": ".py",
   "mimetype": "text/x-python",
   "name": "python",
   "nbconvert_exporter": "python",
   "pygments_lexer": "ipython3",
   "version": "3.11.5"
  }
 },
 "nbformat": 4,
 "nbformat_minor": 5
}
