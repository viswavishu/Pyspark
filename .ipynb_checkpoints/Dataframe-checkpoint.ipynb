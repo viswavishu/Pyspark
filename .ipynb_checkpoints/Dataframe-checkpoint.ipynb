{
 "cells": [
  {
   "cell_type": "markdown",
   "id": "4920f3a9",
   "metadata": {},
   "source": [
    "Working on Data Frames in pyspark"
   ]
  },
  {
   "cell_type": "code",
   "execution_count": 1,
   "id": "e6c86a90",
   "metadata": {},
   "outputs": [],
   "source": [
    "import os\n",
    "import sys\n",
    "from pyspark.sql import SparkSession\n",
    "os.environ['PYSPARK_PYTHON'] = sys.executable\n",
    "os.environ['PYSPARK_DRIVER_PYTHON'] = sys.executable\n",
    "spark = SparkSession.builder.appName(\"Dataset\").getOrCreate()"
   ]
  },
  {
   "cell_type": "code",
   "execution_count": 2,
   "id": "8ceff865",
   "metadata": {},
   "outputs": [],
   "source": [
    "#Creating Dataframe where we will be creating values in a seperate list and creating a schema\n",
    "Schema = (\"First Name\",\"Second Name\",\"Age\",\"Phone number\")\n",
    "Data = [(\"Viswanadh\",\"Gandimenu\",23,9390981000)]"
   ]
  },
  {
   "cell_type": "code",
   "execution_count": 3,
   "id": "b1e9e570",
   "metadata": {},
   "outputs": [],
   "source": [
    "names = spark.createDataFrame(data = Data, schema = Schema)"
   ]
  },
  {
   "cell_type": "code",
   "execution_count": 4,
   "id": "b35b4598",
   "metadata": {},
   "outputs": [
    {
     "name": "stdout",
     "output_type": "stream",
     "text": [
      "+----------+-----------+---+------------+\n",
      "|First Name|Second Name|Age|Phone number|\n",
      "+----------+-----------+---+------------+\n",
      "| Viswanadh|  Gandimenu| 23|  9390981000|\n",
      "+----------+-----------+---+------------+\n",
      "\n"
     ]
    }
   ],
   "source": [
    "names.show()\n"
   ]
  },
  {
   "cell_type": "code",
   "execution_count": 5,
   "id": "6d7717e8",
   "metadata": {},
   "outputs": [
    {
     "name": "stdout",
     "output_type": "stream",
     "text": [
      "root\n",
      " |-- firstname: string (nullable = true)\n",
      " |-- middlename: string (nullable = true)\n",
      " |-- lastname: string (nullable = true)\n",
      "\n"
     ]
    }
   ],
   "source": [
    "#Create Schema\n",
    "from pyspark.sql.types import StructType,StructField, StringType\n",
    "schema = StructType([\n",
    "  StructField('firstname', StringType(), True),\n",
    "  StructField('middlename', StringType(), True),\n",
    "  StructField('lastname', StringType(), True)\n",
    "  ])\n",
    "\n",
    "#Create empty DataFrame directly.\n",
    "\n",
    "df2 = spark.createDataFrame([], schema)\n",
    "df2.printSchema()"
   ]
  },
  {
   "cell_type": "code",
   "execution_count": 6,
   "id": "9ef9b628",
   "metadata": {},
   "outputs": [
    {
     "name": "stdout",
     "output_type": "stream",
     "text": [
      "++\n",
      "||\n",
      "++\n",
      "++\n",
      "\n"
     ]
    }
   ],
   "source": [
    "#creating empty dataframe and without schema\n",
    "df3 = spark.createDataFrame([],StructType([]))\n",
    "df3.show()"
   ]
  },
  {
   "cell_type": "code",
   "execution_count": 7,
   "id": "dc20635a",
   "metadata": {},
   "outputs": [],
   "source": [
    "#Creating empty dataframe\n",
    "emptyRdd = spark.sparkContext.parallelize([])"
   ]
  },
  {
   "cell_type": "code",
   "execution_count": 8,
   "id": "b96bcd8a",
   "metadata": {},
   "outputs": [
    {
     "name": "stdout",
     "output_type": "stream",
     "text": [
      "root\n",
      "\n"
     ]
    }
   ],
   "source": [
    "#Create empty DatFrame with no schema (no columns)\n",
    "df3 = spark.createDataFrame([], StructType([]))\n",
    "df3.printSchema()\n"
   ]
  },
  {
   "cell_type": "code",
   "execution_count": null,
   "id": "9eab9b95",
   "metadata": {},
   "outputs": [],
   "source": []
  }
 ],
 "metadata": {
  "kernelspec": {
   "display_name": "Python 3 (ipykernel)",
   "language": "python",
   "name": "python3"
  },
  "language_info": {
   "codemirror_mode": {
    "name": "ipython",
    "version": 3
   },
   "file_extension": ".py",
   "mimetype": "text/x-python",
   "name": "python",
   "nbconvert_exporter": "python",
   "pygments_lexer": "ipython3",
   "version": "3.11.5"
  }
 },
 "nbformat": 4,
 "nbformat_minor": 5
}
