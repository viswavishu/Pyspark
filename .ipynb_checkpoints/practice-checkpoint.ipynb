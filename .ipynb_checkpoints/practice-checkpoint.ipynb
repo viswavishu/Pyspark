{
 "cells": [
  {
   "cell_type": "code",
   "execution_count": 36,
   "id": "c3ffb855",
   "metadata": {},
   "outputs": [],
   "source": [
    "import findspark\n",
    "\n",
    "# Initiate the findspark module\n",
    "findspark.init()\n",
    "\n",
    "# Import necessary Spark modules\n",
    "from pyspark.sql import SparkSession\n",
    "\n",
    "# Create a Spark session\n",
    "spark = SparkSession.builder.appName(\"example\").getOrCreate()\n",
    "\n",
    "# Now you can use the 'spark' object to work with Spark\n"
   ]
  },
  {
   "cell_type": "code",
   "execution_count": 10,
   "id": "60140b41",
   "metadata": {},
   "outputs": [
    {
     "name": "stdout",
     "output_type": "stream",
     "text": [
      "<pyspark.sql.session.SparkSession object at 0x0000021A23FFB7D0>\n"
     ]
    }
   ],
   "source": [
    "print(spark)"
   ]
  },
  {
   "cell_type": "code",
   "execution_count": 23,
   "id": "eb3b5aee",
   "metadata": {},
   "outputs": [
    {
     "name": "stdout",
     "output_type": "stream",
     "text": [
      "http://DESKTOP-EI4R9B8:4040\n"
     ]
    }
   ],
   "source": [
    "emptyRDD = spark.sparkContext.uiWebUrl\n",
    "print(emptyRDD)\n"
   ]
  },
  {
   "cell_type": "code",
   "execution_count": 29,
   "id": "1a9d8563",
   "metadata": {},
   "outputs": [
    {
     "name": "stdout",
     "output_type": "stream",
     "text": [
      "['hello']\n"
     ]
    }
   ],
   "source": [
    "text = spark.sparkContext.textFile(r\"C:\\Users\\viswa\\Downloads\\testing2.txt\")\n",
    "print(text.collect())"
   ]
  },
  {
   "cell_type": "code",
   "execution_count": 49,
   "id": "66916208",
   "metadata": {},
   "outputs": [],
   "source": [
    "rdd = SparkSession.builder.master(\"local[3]\").appName(\"test\").getOrCreate()"
   ]
  },
  {
   "cell_type": "code",
   "execution_count": 50,
   "id": "a89a790a",
   "metadata": {},
   "outputs": [
    {
     "name": "stdout",
     "output_type": "stream",
     "text": [
      "<pyspark.sql.session.SparkSession object at 0x0000021A23FFB7D0>\n"
     ]
    }
   ],
   "source": [
    "print(rdd)"
   ]
  },
  {
   "cell_type": "code",
   "execution_count": 54,
   "id": "78776ef2",
   "metadata": {},
   "outputs": [
    {
     "name": "stdout",
     "output_type": "stream",
     "text": [
      "ParallelCollectionRDD[21] at readRDDFromFile at PythonRDD.scala:289\n"
     ]
    }
   ],
   "source": [
    "data = [1,2,3,4,5,6,7,8,9,10,11,12]\n",
    "rdd=spark.sparkContext.parallelize(data)\n",
    "print(rdd)\n"
   ]
  },
  {
   "cell_type": "code",
   "execution_count": 59,
   "id": "70b39ba5",
   "metadata": {},
   "outputs": [
    {
     "name": "stdout",
     "output_type": "stream",
     "text": [
      "org.apache.spark.api.java.JavaPairRDD@6370bbb\n"
     ]
    }
   ],
   "source": [
    "rdd2 = spark.sparkContext.wholeTextFiles(r\"C:\\Users\\viswa\\Downloads\\testing2.txt\")\n",
    "print(rdd2)"
   ]
  }
 ],
 "metadata": {
  "kernelspec": {
   "display_name": "Python 3 (ipykernel)",
   "language": "python",
   "name": "python3"
  },
  "language_info": {
   "codemirror_mode": {
    "name": "ipython",
    "version": 3
   },
   "file_extension": ".py",
   "mimetype": "text/x-python",
   "name": "python",
   "nbconvert_exporter": "python",
   "pygments_lexer": "ipython3",
   "version": "3.11.5"
  }
 },
 "nbformat": 4,
 "nbformat_minor": 5
}
