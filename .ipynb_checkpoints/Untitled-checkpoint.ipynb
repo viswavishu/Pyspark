{
 "cells": [
  {
   "cell_type": "code",
   "execution_count": 35,
   "id": "9781c96b",
   "metadata": {},
   "outputs": [],
   "source": [
    "from pyspark.sql import SparkSession\n",
    "spark = SparkSession.builder.master(\"local[1]\").appName(\"Sample\").getOrCreate()\n"
   ]
  },
  {
   "cell_type": "code",
   "execution_count": 36,
   "id": "a240a2d7",
   "metadata": {},
   "outputs": [
    {
     "name": "stdout",
     "output_type": "stream",
     "text": [
      "http://DESKTOP-EI4R9B8:4040\n"
     ]
    }
   ],
   "source": [
    "print(spark.sparkContext.uiWebUrl)"
   ]
  },
  {
   "cell_type": "code",
   "execution_count": 37,
   "id": "b662be1b",
   "metadata": {},
   "outputs": [
    {
     "name": "stdout",
     "output_type": "stream",
     "text": [
      "['hello']\n"
     ]
    }
   ],
   "source": [
    "text = spark.sparkContext.textFile(r\"C:\\Users\\viswa\\Downloads\\testing2.txt\")\n",
    "print(text.collect())"
   ]
  },
  {
   "cell_type": "code",
   "execution_count": 133,
   "id": "f22fb254",
   "metadata": {},
   "outputs": [],
   "source": [
    "iris = spark.read.format(\"csv\").option(\"header\",True).load(r\"C:\\Users\\viswa\\Downloads\\iris.csv\")"
   ]
  },
  {
   "cell_type": "code",
   "execution_count": 93,
   "id": "d907cf2f",
   "metadata": {},
   "outputs": [
    {
     "name": "stdout",
     "output_type": "stream",
     "text": [
      "StructType([StructField('Sepal.Length', DoubleType(), True), StructField('Sepal.Width', DoubleType(), True), StructField('Petal.Length', DoubleType(), True), StructField('Petal.Width', DoubleType(), True), StructField('Species', StringType(), True)])\n"
     ]
    }
   ],
   "source": [
    "print(iris.schema)"
   ]
  },
  {
   "cell_type": "code",
   "execution_count": 102,
   "id": "c12cbab2",
   "metadata": {},
   "outputs": [
    {
     "name": "stdout",
     "output_type": "stream",
     "text": [
      "ParallelCollectionRDD[181] at readRDDFromFile at PythonRDD.scala:289\n"
     ]
    }
   ],
   "source": [
    "data = [1,23,4,5,6,7,8,9,10,11,12,13,14,15]\n",
    "rdd = spark.sparkContext.parallelize(data)\n",
    "print(rdd)"
   ]
  },
  {
   "cell_type": "code",
   "execution_count": 108,
   "id": "284573b1",
   "metadata": {},
   "outputs": [],
   "source": [
    "data2 = spark.read.json(r\"C:\\Users\\viswa\\Downloads\\Employee.json\", multiLine=True)"
   ]
  },
  {
   "cell_type": "code",
   "execution_count": 120,
   "id": "e5625b6f",
   "metadata": {},
   "outputs": [
    {
     "name": "stdout",
     "output_type": "stream",
     "text": [
      "+---------+--------+--------------------+\n",
      "|firstName|lastName|               email|\n",
      "+---------+--------+--------------------+\n",
      "|     John|     Doe|john.doe@example.com|\n",
      "|     Jane|   Smith|jane.smith@exampl...|\n",
      "|      Bob| Johnson|bob.johnson@examp...|\n",
      "+---------+--------+--------------------+\n",
      "\n"
     ]
    }
   ],
   "source": [
    "data2.select(\"firstName\",\"lastName\",\"email\").show()"
   ]
  },
  {
   "cell_type": "code",
   "execution_count": 129,
   "id": "1037074b",
   "metadata": {},
   "outputs": [
    {
     "name": "stdout",
     "output_type": "stream",
     "text": [
      "org.apache.spark.api.java.JavaPairRDD@52e12383\n"
     ]
    }
   ],
   "source": [
    "data3 = spark.sparkContext.wholeTextFiles(r\"C:\\Users\\viswa\\Downloads\\EnactedGarden.txt\")\n",
    "print(data3)"
   ]
  },
  {
   "cell_type": "code",
   "execution_count": 134,
   "id": "6f0a8be9",
   "metadata": {},
   "outputs": [
    {
     "name": "stdout",
     "output_type": "stream",
     "text": [
      "root\n",
      " |-- Sepal.Length: string (nullable = true)\n",
      " |-- Sepal.Width: string (nullable = true)\n",
      " |-- Petal.Length: string (nullable = true)\n",
      " |-- Petal.Width: string (nullable = true)\n",
      " |-- Species: string (nullable = true)\n",
      "\n"
     ]
    }
   ],
   "source": [
    "iris.printSchema()"
   ]
  },
  {
   "cell_type": "code",
   "execution_count": 173,
   "id": "82cd4407",
   "metadata": {},
   "outputs": [
    {
     "data": {
      "text/plain": [
       "DataFrame[Date: string, macOS Catalina: string, macOS High Sierra: string, macOS Mojave: string, macOS Sierra: string, OS X El Capitan: string, OS X 10.10: string, OS X Mavericks: string, mac OS X Snow Leopard: string, OS X Mountain Lion: string, mac OS X Lion: string, macOS Big Sur 11.2: string, macOS Big Sur 11.1: string, macOS Big Sur 11.0: string, mac OS X Leopard: string, macOS Big Sur 10.16: string, mac OS X Tiger: string, macOS Big Sur 11.3: string, Other: string]"
      ]
     },
     "metadata": {},
     "output_type": "display_data"
    }
   ],
   "source": [
    "#Reading multiple CSV files\n",
    "file1 = \"macos_version_market_share.csv\"\n",
    "file2 = \"desktop_os_market_share.csv\"\n",
    "data5 = spark.read.csv([file1],header=\"True\")\n",
    "display(data5)\n",
    "                       "
   ]
  },
  {
   "cell_type": "code",
   "execution_count": null,
   "id": "e292a3a4",
   "metadata": {},
   "outputs": [],
   "source": []
  }
 ],
 "metadata": {
  "kernelspec": {
   "display_name": "Python 3 (ipykernel)",
   "language": "python",
   "name": "python3"
  },
  "language_info": {
   "codemirror_mode": {
    "name": "ipython",
    "version": 3
   },
   "file_extension": ".py",
   "mimetype": "text/x-python",
   "name": "python",
   "nbconvert_exporter": "python",
   "pygments_lexer": "ipython3",
   "version": "3.11.5"
  }
 },
 "nbformat": 4,
 "nbformat_minor": 5
}
