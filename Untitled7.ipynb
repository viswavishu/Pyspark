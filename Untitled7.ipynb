{
 "cells": [
  {
   "cell_type": "raw",
   "id": "df03a67f",
   "metadata": {},
   "source": [
    "Working with show()"
   ]
  },
  {
   "cell_type": "code",
   "execution_count": 1,
   "id": "89dfb881",
   "metadata": {},
   "outputs": [],
   "source": [
    "import os\n",
    "import sys\n",
    "from pyspark.sql import SparkSession\n",
    "os.environ['PYSPARK_PYTHON'] = sys.executable\n",
    "os.environ['PYSPARK_DRIVER_PYTHON'] = sys.executable\n",
    "spark = SparkSession.builder.appName(\"Show\").getOrCreate()"
   ]
  },
  {
   "cell_type": "code",
   "execution_count": 15,
   "id": "bd50d57a",
   "metadata": {},
   "outputs": [],
   "source": [
    "from pyspark.sql.types import StructType, StructField,StringType"
   ]
  },
  {
   "cell_type": "code",
   "execution_count": 30,
   "id": "48909c76",
   "metadata": {},
   "outputs": [],
   "source": [
    "schema  = StructType([\n",
    "    StructField(\"firstname\",StringType(),True),\n",
    "    StructField(\"lastname\",StringType(),True),\n",
    "    StructField(\"age\",StringType(),True)\n",
    "])\n",
    "Data = [(\"Viswanadh\",\"Gandimenu\",19),(\"harshavardhan\",\"Gandimenu\",20),(\"harshavardhannnnnnnnnnn\",\"Gandimenuuddddddddd\",20)]"
   ]
  },
  {
   "cell_type": "code",
   "execution_count": 31,
   "id": "5700ae5c",
   "metadata": {},
   "outputs": [],
   "source": [
    "df = spark.createDataFrame(data = Data, schema = schema )"
   ]
  },
  {
   "cell_type": "code",
   "execution_count": 33,
   "id": "98f14205",
   "metadata": {},
   "outputs": [
    {
     "name": "stdout",
     "output_type": "stream",
     "text": [
      "+-----------------------+-------------------+---+\n",
      "|firstname              |lastname           |age|\n",
      "+-----------------------+-------------------+---+\n",
      "|Viswanadh              |Gandimenu          |19 |\n",
      "|harshavardhan          |Gandimenu          |20 |\n",
      "|harshavardhannnnnnnnnnn|Gandimenuuddddddddd|20 |\n",
      "+-----------------------+-------------------+---+\n",
      "\n"
     ]
    }
   ],
   "source": [
    "df.show(truncate = False)"
   ]
  },
  {
   "cell_type": "code",
   "execution_count": 40,
   "id": "c70714ea",
   "metadata": {},
   "outputs": [
    {
     "name": "stdout",
     "output_type": "stream",
     "text": [
      "-RECORD 0------------------\n",
      " firstname | Viswanadh     \n",
      " lastname  | Gandimenu     \n",
      " age       | 19            \n",
      "-RECORD 1------------------\n",
      " firstname | harshavardhan \n",
      " lastname  | Gandimenu     \n",
      " age       | 20            \n",
      "-RECORD 2------------------\n",
      " firstname | harshavard... \n",
      " lastname  | Gandimenuu... \n",
      " age       | 20            \n",
      "\n",
      "root\n",
      " |-- firstname: string (nullable = true)\n",
      " |-- lastname: string (nullable = true)\n",
      " |-- age: string (nullable = true)\n",
      "\n"
     ]
    }
   ],
   "source": [
    "df.show(10,truncate = 13,vertical=True)\n",
    "df.printSchema()"
   ]
  },
  {
   "cell_type": "code",
   "execution_count": null,
   "id": "0aedc25c",
   "metadata": {},
   "outputs": [],
   "source": []
  }
 ],
 "metadata": {
  "kernelspec": {
   "display_name": "Python 3 (ipykernel)",
   "language": "python",
   "name": "python3"
  },
  "language_info": {
   "codemirror_mode": {
    "name": "ipython",
    "version": 3
   },
   "file_extension": ".py",
   "mimetype": "text/x-python",
   "name": "python",
   "nbconvert_exporter": "python",
   "pygments_lexer": "ipython3",
   "version": "3.11.5"
  }
 },
 "nbformat": 4,
 "nbformat_minor": 5
}
