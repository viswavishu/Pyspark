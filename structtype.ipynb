{
 "cells": [
  {
   "cell_type": "code",
   "execution_count": 1,
   "id": "77395c8e",
   "metadata": {},
   "outputs": [],
   "source": [
    "import os\n",
    "import sys\n",
    "from pyspark.sql import SparkSession\n",
    "os.environ['PYSPARK_PYTHON'] = sys.executable\n",
    "os.environ['PYSPARK_DRIVER_PYTHON'] = sys.executable\n",
    "spark = SparkSession.builder.appName(\"Show\").getOrCreate()"
   ]
  },
  {
   "cell_type": "code",
   "execution_count": 28,
   "id": "7f6a5587",
   "metadata": {},
   "outputs": [],
   "source": [
    "from pyspark.sql.types import StructType,StructField,StringType, IntegerType"
   ]
  },
  {
   "cell_type": "code",
   "execution_count": 7,
   "id": "c5aa5bdc",
   "metadata": {},
   "outputs": [],
   "source": [
    "Schema = StructType([\n",
    "    StructField(\"name\",StructType([\n",
    "        StructField(\"FirstName\",StringType() ,True),\n",
    "        StructField(\"MiddleName\",StringType(),True),\n",
    "        StructField(\"LastName\",StringType(),True),\n",
    "    ])),\n",
    "    StructField(\"age\",StringType(),True),\n",
    "    StructField(\"PHoneNumber\",StringType(),True)\n",
    "])"
   ]
  },
  {
   "cell_type": "code",
   "execution_count": 16,
   "id": "de96e966",
   "metadata": {},
   "outputs": [],
   "source": [
    "Data = [((\"Viswanadh\",\"\",\"Gandimenu\"),23,9390981330),\n",
    "        ((\"Harsha\",\"Vardhan\",\"Gandimenu\"),26,9390981330),\n",
    "        ((\"Suraya\",\"Lakshmi\",\"Gandimenu\"),45,9390981330),\n",
    "        ((\"Simhachalam\",\"\",\"Gandimenu\"),50,9390981330),\n",
    "       ]"
   ]
  },
  {
   "cell_type": "code",
   "execution_count": 17,
   "id": "5b981be1",
   "metadata": {},
   "outputs": [],
   "source": [
    "DF = spark.createDataFrame(data = Data,schema = Schema)"
   ]
  },
  {
   "cell_type": "code",
   "execution_count": 21,
   "id": "bd393bed",
   "metadata": {},
   "outputs": [
    {
     "name": "stdout",
     "output_type": "stream",
     "text": [
      "root\n",
      " |-- name: struct (nullable = true)\n",
      " |    |-- FirstName: string (nullable = true)\n",
      " |    |-- MiddleName: string (nullable = true)\n",
      " |    |-- LastName: string (nullable = true)\n",
      " |-- age: string (nullable = true)\n",
      " |-- PHoneNumber: string (nullable = true)\n",
      "\n",
      "+----------------------------+---+-----------+\n",
      "|name                        |age|PHoneNumber|\n",
      "+----------------------------+---+-----------+\n",
      "|{Viswanadh, , Gandimenu}    |23 |9390981330 |\n",
      "|{Harsha, Vardhan, Gandimenu}|26 |9390981330 |\n",
      "|{Suraya, Lakshmi, Gandimenu}|45 |9390981330 |\n",
      "|{Simhachalam, , Gandimenu}  |50 |9390981330 |\n",
      "+----------------------------+---+-----------+\n",
      "\n"
     ]
    }
   ],
   "source": [
    "DF.printSchema()\n",
    "DF.show(20,truncate = False)"
   ]
  },
  {
   "cell_type": "code",
   "execution_count": 24,
   "id": "b03d9cee",
   "metadata": {},
   "outputs": [],
   "source": [
    "Schema2 = StructType([\n",
    "    StructField(\"name\",StructType([\n",
    "        StructField(\"FirstName\",StringType() ,True),\n",
    "        StructField(\"MiddleName\",StringType(),True),\n",
    "        StructField(\"LastName\",StringType(),True),\n",
    "    ])),\n",
    "    StructField(\"age\",StringType(),False),\n",
    "    StructField(\"PHoneNumber\",StringType(),True)\n",
    "])\n",
    "Data2 = [((\"Viswanadh\",\"\",\"Gandimenu\"),23,9390981330),\n",
    "        ((\"Harsha\",\"Vardhan\",\"Gandimenu\"),26,9390981330),\n",
    "        ((\"Suraya\",\"Lakshmi\",\"Gandimenu\"),\"\",9390981330),\n",
    "        ((\"Simhachalam\",\"\",\"Gandimenu\"),50,9390981330),\n",
    "       ]"
   ]
  },
  {
   "cell_type": "code",
   "execution_count": 26,
   "id": "6fcac4ba",
   "metadata": {},
   "outputs": [
    {
     "name": "stdout",
     "output_type": "stream",
     "text": [
      "root\n",
      " |-- name: struct (nullable = true)\n",
      " |    |-- FirstName: string (nullable = true)\n",
      " |    |-- MiddleName: string (nullable = true)\n",
      " |    |-- LastName: string (nullable = true)\n",
      " |-- age: string (nullable = false)\n",
      " |-- PHoneNumber: string (nullable = true)\n",
      "\n",
      "+----------------------------+---+-----------+\n",
      "|name                        |age|PHoneNumber|\n",
      "+----------------------------+---+-----------+\n",
      "|{Viswanadh, , Gandimenu}    |23 |9390981330 |\n",
      "|{Harsha, Vardhan, Gandimenu}|26 |9390981330 |\n",
      "|{Suraya, Lakshmi, Gandimenu}|   |9390981330 |\n",
      "|{Simhachalam, , Gandimenu}  |50 |9390981330 |\n",
      "+----------------------------+---+-----------+\n",
      "\n"
     ]
    }
   ],
   "source": [
    "DF = spark.createDataFrame(data = Data2,schema = Schema2)\n",
    "DF.printSchema()\n",
    "DF.show(20,truncate = False)"
   ]
  },
  {
   "cell_type": "code",
   "execution_count": 29,
   "id": "b5a2e3a3",
   "metadata": {},
   "outputs": [
    {
     "name": "stdout",
     "output_type": "stream",
     "text": [
      "root\n",
      " |-- name: struct (nullable = true)\n",
      " |    |-- firstname: string (nullable = true)\n",
      " |    |-- middlename: string (nullable = true)\n",
      " |    |-- lastname: string (nullable = true)\n",
      " |-- id: string (nullable = true)\n",
      " |-- gender: string (nullable = true)\n",
      " |-- salary: integer (nullable = true)\n",
      "\n",
      "+--------------------+-----+------+------+\n",
      "|name                |id   |gender|salary|\n",
      "+--------------------+-----+------+------+\n",
      "|{James, , Smith}    |36636|M     |3100  |\n",
      "|{Michael, Rose, }   |40288|M     |4300  |\n",
      "|{Robert, , Williams}|42114|M     |1400  |\n",
      "|{Maria, Anne, Jones}|39192|F     |5500  |\n",
      "|{Jen, Mary, Brown}  |     |F     |-1    |\n",
      "+--------------------+-----+------+------+\n",
      "\n"
     ]
    }
   ],
   "source": [
    "structureData = [\n",
    "    ((\"James\",\"\",\"Smith\"),\"36636\",\"M\",3100),\n",
    "    ((\"Michael\",\"Rose\",\"\"),\"40288\",\"M\",4300),\n",
    "    ((\"Robert\",\"\",\"Williams\"),\"42114\",\"M\",1400),\n",
    "    ((\"Maria\",\"Anne\",\"Jones\"),\"39192\",\"F\",5500),\n",
    "    ((\"Jen\",\"Mary\",\"Brown\"),\"\",\"F\",-1)\n",
    "  ]\n",
    "structureSchema = StructType([\n",
    "        StructField('name', StructType([\n",
    "             StructField('firstname', StringType(), True),\n",
    "             StructField('middlename', StringType(), True),\n",
    "             StructField('lastname', StringType(), True)\n",
    "             ])),\n",
    "         StructField('id', StringType(), True),\n",
    "         StructField('gender', StringType(), True),\n",
    "         StructField('salary', IntegerType(), True)\n",
    "         ])\n",
    "\n",
    "df2 = spark.createDataFrame(data=structureData,schema=structureSchema)\n",
    "df2.printSchema()\n",
    "df2.show(truncate=False)"
   ]
  },
  {
   "cell_type": "code",
   "execution_count": 30,
   "id": "3066cbca",
   "metadata": {},
   "outputs": [
    {
     "name": "stdout",
     "output_type": "stream",
     "text": [
      "root\n",
      " |-- name: struct (nullable = true)\n",
      " |    |-- firstname: string (nullable = true)\n",
      " |    |-- middlename: string (nullable = true)\n",
      " |    |-- lastname: string (nullable = true)\n",
      " |-- OtherInfo: struct (nullable = false)\n",
      " |    |-- identifier: string (nullable = true)\n",
      " |    |-- gender: string (nullable = true)\n",
      " |    |-- salary: integer (nullable = true)\n",
      " |    |-- Salary_Grade: string (nullable = false)\n",
      "\n",
      "+--------------------+------------------------+\n",
      "|name                |OtherInfo               |\n",
      "+--------------------+------------------------+\n",
      "|{James, , Smith}    |{36636, M, 3100, Medium}|\n",
      "|{Michael, Rose, }   |{40288, M, 4300, High}  |\n",
      "|{Robert, , Williams}|{42114, M, 1400, Low}   |\n",
      "|{Maria, Anne, Jones}|{39192, F, 5500, High}  |\n",
      "|{Jen, Mary, Brown}  |{, F, -1, Low}          |\n",
      "+--------------------+------------------------+\n",
      "\n"
     ]
    }
   ],
   "source": [
    "from pyspark.sql.functions import col,struct,when\n",
    "updatedDF = df2.withColumn(\"OtherInfo\", \n",
    "    struct(col(\"id\").alias(\"identifier\"),\n",
    "    col(\"gender\").alias(\"gender\"),\n",
    "    col(\"salary\").alias(\"salary\"),\n",
    "    when(col(\"salary\").cast(IntegerType()) < 2000,\"Low\")\n",
    "      .when(col(\"salary\").cast(IntegerType()) < 4000,\"Medium\")\n",
    "      .otherwise(\"High\").alias(\"Salary_Grade\")\n",
    "  )).drop(\"id\",\"gender\",\"salary\")\n",
    "\n",
    "updatedDF.printSchema()\n",
    "updatedDF.show(truncate=False)"
   ]
  },
  {
   "cell_type": "code",
   "execution_count": 48,
   "id": "f114cc2e",
   "metadata": {},
   "outputs": [
    {
     "name": "stdout",
     "output_type": "stream",
     "text": [
      "{\"fields\":[{\"metadata\":{},\"name\":\"name\",\"nullable\":true,\"type\":{\"fields\":[{\"metadata\":{},\"name\":\"firstname\",\"nullable\":true,\"type\":\"string\"},{\"metadata\":{},\"name\":\"middlename\",\"nullable\":true,\"type\":\"string\"},{\"metadata\":{},\"name\":\"lastname\",\"nullable\":true,\"type\":\"string\"}],\"type\":\"struct\"}},{\"metadata\":{},\"name\":\"OtherInfo\",\"nullable\":false,\"type\":{\"fields\":[{\"metadata\":{},\"name\":\"identifier\",\"nullable\":true,\"type\":\"string\"},{\"metadata\":{},\"name\":\"gender\",\"nullable\":true,\"type\":\"string\"},{\"metadata\":{},\"name\":\"salary\",\"nullable\":true,\"type\":\"integer\"},{\"metadata\":{},\"name\":\"Salary_Grade\",\"nullable\":false,\"type\":\"string\"}],\"type\":\"struct\"}}],\"type\":\"struct\"}\n"
     ]
    }
   ],
   "source": [
    "print(updatedDF.schema.json())"
   ]
  },
  {
   "cell_type": "code",
   "execution_count": 32,
   "id": "a293547a",
   "metadata": {},
   "outputs": [],
   "source": [
    "# Using SQL ArrayType and MapType\n",
    "from pyspark.sql.types import ArrayType,MapType\n",
    "arrayDataSchema = StructType([\n",
    "    StructField(\"names\",StructType([\n",
    "        StructField(\"FirstName\",StringType(),True),\n",
    "        StructField(\"MiddleName\",StringType(),True),\n",
    "        StructField(\"LastName\",StringType(),True),\n",
    "    ])),\n",
    "    StructField(\"Hobbies\",ArrayType(StringType()),True),\n",
    "    StructField(\"Propeties\",MapType(StringType(),StringType()),True)\n",
    "])"
   ]
  },
  {
   "cell_type": "code",
   "execution_count": 51,
   "id": "321d89a2",
   "metadata": {},
   "outputs": [
    {
     "data": {
      "text/plain": [
       "StructType([StructField('names', StructType([StructField('FirstName', StringType(), True), StructField('MiddleName', StringType(), True), StructField('LastName', StringType(), True)]), True), StructField('Hobbies', ArrayType(StringType(), True), True), StructField('Propeties', MapType(StringType(), StringType(), True), True)])"
      ]
     },
     "metadata": {},
     "output_type": "display_data"
    }
   ],
   "source": [
    "display(arrayDataSchema)"
   ]
  },
  {
   "cell_type": "code",
   "execution_count": 68,
   "id": "2ff7ae1f",
   "metadata": {},
   "outputs": [],
   "source": [
    "import json\n",
    "\n",
    "path = r\"C:\\Users\\viswa\\OneDrive\\Documents\\schema.json\"\n",
    "with open(path) as jf:\n",
    "    schemaJson = jf.read()\n",
    "schemaFromJson = StructType.fromJson(json.loads(schemaJson))"
   ]
  },
  {
   "cell_type": "code",
   "execution_count": 73,
   "id": "f16d00e4",
   "metadata": {},
   "outputs": [
    {
     "data": {
      "text/plain": [
       "StructType([StructField('name', StructType([StructField('firstname', StringType(), True), StructField('middlename', StringType(), True), StructField('lastname', StringType(), True)]), True), StructField('dob', StringType(), True), StructField('gender', StringType(), True), StructField('salary', IntegerType(), True)])"
      ]
     },
     "execution_count": 73,
     "metadata": {},
     "output_type": "execute_result"
    }
   ],
   "source": [
    "schemaFromJson"
   ]
  },
  {
   "cell_type": "code",
   "execution_count": 80,
   "id": "d404d29c",
   "metadata": {},
   "outputs": [
    {
     "ename": "AttributeError",
     "evalue": "'function' object has no attribute 'contains'",
     "output_type": "error",
     "traceback": [
      "\u001b[1;31m---------------------------------------------------------------------------\u001b[0m",
      "\u001b[1;31mAttributeError\u001b[0m                            Traceback (most recent call last)",
      "Cell \u001b[1;32mIn[80], line 1\u001b[0m\n\u001b[1;32m----> 1\u001b[0m \u001b[38;5;28mprint\u001b[39m(DF\u001b[38;5;241m.\u001b[39mschema\u001b[38;5;241m.\u001b[39mfieldNames\u001b[38;5;241m.\u001b[39mcontains(\u001b[38;5;124m\"\u001b[39m\u001b[38;5;124mfirstname\u001b[39m\u001b[38;5;124m\"\u001b[39m))\n",
      "\u001b[1;31mAttributeError\u001b[0m: 'function' object has no attribute 'contains'"
     ]
    }
   ],
   "source": [
    "\n",
    "print(DF.schema.fieldNames.contains(\"firstname\"))\n"
   ]
  },
  {
   "cell_type": "code",
   "execution_count": null,
   "id": "520e677a",
   "metadata": {},
   "outputs": [],
   "source": []
  }
 ],
 "metadata": {
  "kernelspec": {
   "display_name": "Python 3 (ipykernel)",
   "language": "python",
   "name": "python3"
  },
  "language_info": {
   "codemirror_mode": {
    "name": "ipython",
    "version": 3
   },
   "file_extension": ".py",
   "mimetype": "text/x-python",
   "name": "python",
   "nbconvert_exporter": "python",
   "pygments_lexer": "ipython3",
   "version": "3.11.5"
  }
 },
 "nbformat": 4,
 "nbformat_minor": 5
}
