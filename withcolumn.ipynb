{
 "cells": [
  {
   "cell_type": "code",
   "execution_count": 1,
   "id": "c847cc5c",
   "metadata": {},
   "outputs": [],
   "source": [
    "#with column"
   ]
  },
  {
   "cell_type": "code",
   "execution_count": 2,
   "id": "2bf9c3b0",
   "metadata": {},
   "outputs": [],
   "source": [
    "import os\n",
    "import sys\n",
    "from pyspark.sql import SparkSession\n",
    "os.environ['PYSPARK_PYTHON'] = sys.executable\n",
    "os.environ['PYSPARK_DRIVER_PYTHON'] = sys.executable\n",
    "import pyspark\n",
    "from pyspark.sql import SparkSession\n",
    "\n",
    "spark = SparkSession.builder.appName('withcolumn').getOrCreate()"
   ]
  },
  {
   "cell_type": "code",
   "execution_count": 3,
   "id": "79522a64",
   "metadata": {},
   "outputs": [],
   "source": [
    "data = [('James','','Smith','1991-04-01','M',3000),\n",
    "  ('Michael','Rose','','2000-05-19','M',4000),\n",
    "  ('Robert','','Williams','1978-09-05','M',4000),\n",
    "  ('Maria','Anne','Jones','1967-12-01','F',4000),\n",
    "  ('Jen','Mary','Brown','1980-02-17','F',-1)\n",
    "]\n",
    "\n",
    "columns = [\"firstname\",\"middlename\",\"lastname\",\"dob\",\"gender\",\"salary\"]\n",
    "df = spark.createDataFrame(data=data, schema = columns)"
   ]
  },
  {
   "cell_type": "code",
   "execution_count": 4,
   "id": "0114a2ea",
   "metadata": {},
   "outputs": [
    {
     "name": "stdout",
     "output_type": "stream",
     "text": [
      "root\n",
      " |-- firstname: string (nullable = true)\n",
      " |-- middlename: string (nullable = true)\n",
      " |-- lastname: string (nullable = true)\n",
      " |-- dob: string (nullable = true)\n",
      " |-- gender: string (nullable = true)\n",
      " |-- salary: long (nullable = true)\n",
      "\n"
     ]
    }
   ],
   "source": [
    "df.printSchema()"
   ]
  },
  {
   "cell_type": "code",
   "execution_count": 5,
   "id": "df0a466b",
   "metadata": {},
   "outputs": [
    {
     "name": "stdout",
     "output_type": "stream",
     "text": [
      "+---------+----------+--------+----------+------+------+\n",
      "|firstname|middlename|lastname|       dob|gender|salary|\n",
      "+---------+----------+--------+----------+------+------+\n",
      "|    James|          |   Smith|1991-04-01|     M|  3000|\n",
      "|  Michael|      Rose|        |2000-05-19|     M|  4000|\n",
      "|   Robert|          |Williams|1978-09-05|     M|  4000|\n",
      "|    Maria|      Anne|   Jones|1967-12-01|     F|  4000|\n",
      "|      Jen|      Mary|   Brown|1980-02-17|     F|    -1|\n",
      "+---------+----------+--------+----------+------+------+\n",
      "\n"
     ]
    }
   ],
   "source": [
    "df.show()"
   ]
  },
  {
   "cell_type": "code",
   "execution_count": 47,
   "id": "7b25b511",
   "metadata": {},
   "outputs": [
    {
     "name": "stdout",
     "output_type": "stream",
     "text": [
      "+---------+----------+--------+----------+------+------+\n",
      "|firstname|middlename|lastname|       dob|gender|salary|\n",
      "+---------+----------+--------+----------+------+------+\n",
      "|    James|          |   Smith|1991-04-01|     M|  3000|\n",
      "|  Michael|      Rose|        |2000-05-19|     M|  4000|\n",
      "|   Robert|          |Williams|1978-09-05|     M|  4000|\n",
      "|    Maria|      Anne|   Jones|1967-12-01|     F|  4000|\n",
      "|      Jen|      Mary|   Brown|1980-02-17|     F|    -1|\n",
      "+---------+----------+--------+----------+------+------+\n",
      "\n"
     ]
    }
   ],
   "source": [
    "from pyspark.sql.functions import *\n",
    "dfchange = df.withColumn(\"salary\",col(\"salary\").cast(\"int\"))\n",
    "dfchange.show()"
   ]
  },
  {
   "cell_type": "code",
   "execution_count": 48,
   "id": "0eed3313",
   "metadata": {},
   "outputs": [
    {
     "name": "stdout",
     "output_type": "stream",
     "text": [
      "root\n",
      " |-- firstname: string (nullable = true)\n",
      " |-- middlename: string (nullable = true)\n",
      " |-- lastname: string (nullable = true)\n",
      " |-- dob: string (nullable = true)\n",
      " |-- gender: string (nullable = true)\n",
      " |-- salary: integer (nullable = true)\n",
      "\n"
     ]
    }
   ],
   "source": [
    "dfchange.printSchema()"
   ]
  },
  {
   "cell_type": "code",
   "execution_count": 20,
   "id": "65b491c0",
   "metadata": {},
   "outputs": [
    {
     "name": "stdout",
     "output_type": "stream",
     "text": [
      "root\n",
      " |-- firstname: string (nullable = true)\n",
      " |-- middlename: string (nullable = true)\n",
      " |-- lastname: string (nullable = true)\n",
      " |-- dob: string (nullable = true)\n",
      " |-- gender: string (nullable = true)\n",
      " |-- salary: long (nullable = true)\n",
      "\n"
     ]
    }
   ],
   "source": [
    "df.printSchema()"
   ]
  },
  {
   "cell_type": "code",
   "execution_count": 30,
   "id": "f5e0d851",
   "metadata": {},
   "outputs": [],
   "source": [
    "df1 = df.withColumn(\"Country\", lit(\"USA\"))\n"
   ]
  },
  {
   "cell_type": "code",
   "execution_count": 31,
   "id": "8366af7f",
   "metadata": {},
   "outputs": [
    {
     "name": "stdout",
     "output_type": "stream",
     "text": [
      "+---------+----------+--------+----------+------+------+-------+\n",
      "|firstname|middlename|lastname|       dob|gender|salary|Country|\n",
      "+---------+----------+--------+----------+------+------+-------+\n",
      "|    James|          |   Smith|1991-04-01|     M|  3000|    USA|\n",
      "|  Michael|      Rose|        |2000-05-19|     M|  4000|    USA|\n",
      "|   Robert|          |Williams|1978-09-05|     M|  4000|    USA|\n",
      "|    Maria|      Anne|   Jones|1967-12-01|     F|  4000|    USA|\n",
      "|      Jen|      Mary|   Brown|1980-02-17|     F|    -1|    USA|\n",
      "+---------+----------+--------+----------+------+------+-------+\n",
      "\n"
     ]
    }
   ],
   "source": [
    "df1.show()"
   ]
  },
  {
   "cell_type": "code",
   "execution_count": 32,
   "id": "dc8dadc4",
   "metadata": {},
   "outputs": [],
   "source": [
    "df2 = df1.withColumn(\"test1\",lit(\"NA\")).withColumn(\"test2\",lit(\"NAN\"))"
   ]
  },
  {
   "cell_type": "code",
   "execution_count": 33,
   "id": "ffd87ade",
   "metadata": {},
   "outputs": [
    {
     "name": "stdout",
     "output_type": "stream",
     "text": [
      "+---------+----------+--------+----------+------+------+-------+-----+-----+\n",
      "|firstname|middlename|lastname|       dob|gender|salary|Country|test1|test2|\n",
      "+---------+----------+--------+----------+------+------+-------+-----+-----+\n",
      "|    James|          |   Smith|1991-04-01|     M|  3000|    USA|   NA|  NAN|\n",
      "|  Michael|      Rose|        |2000-05-19|     M|  4000|    USA|   NA|  NAN|\n",
      "|   Robert|          |Williams|1978-09-05|     M|  4000|    USA|   NA|  NAN|\n",
      "|    Maria|      Anne|   Jones|1967-12-01|     F|  4000|    USA|   NA|  NAN|\n",
      "|      Jen|      Mary|   Brown|1980-02-17|     F|    -1|    USA|   NA|  NAN|\n",
      "+---------+----------+--------+----------+------+------+-------+-----+-----+\n",
      "\n"
     ]
    }
   ],
   "source": [
    "df2.show()"
   ]
  },
  {
   "cell_type": "code",
   "execution_count": 36,
   "id": "f00e3a84",
   "metadata": {},
   "outputs": [
    {
     "name": "stdout",
     "output_type": "stream",
     "text": [
      "+---------+----------+--------+----------+------+------+-------+------+-----+\n",
      "|firstname|middlename|lastname|       dob|gender|salary|Country|dummy1|test2|\n",
      "+---------+----------+--------+----------+------+------+-------+------+-----+\n",
      "|    James|          |   Smith|1991-04-01|     M|  3000|    USA|    NA|  NAN|\n",
      "|  Michael|      Rose|        |2000-05-19|     M|  4000|    USA|    NA|  NAN|\n",
      "|   Robert|          |Williams|1978-09-05|     M|  4000|    USA|    NA|  NAN|\n",
      "|    Maria|      Anne|   Jones|1967-12-01|     F|  4000|    USA|    NA|  NAN|\n",
      "|      Jen|      Mary|   Brown|1980-02-17|     F|    -1|    USA|    NA|  NAN|\n",
      "+---------+----------+--------+----------+------+------+-------+------+-----+\n",
      "\n"
     ]
    }
   ],
   "source": [
    "#Renaming existing column\n",
    "df3 = df2.withColumnRenamed(\"test1\",\"dummy1\")\n",
    "df3.show()"
   ]
  },
  {
   "cell_type": "code",
   "execution_count": 37,
   "id": "5caff66d",
   "metadata": {},
   "outputs": [
    {
     "name": "stdout",
     "output_type": "stream",
     "text": [
      "+---------+----------+--------+----------+------+------+-------+------+\n",
      "|firstname|middlename|lastname|       dob|gender|salary|Country|dummy1|\n",
      "+---------+----------+--------+----------+------+------+-------+------+\n",
      "|    James|          |   Smith|1991-04-01|     M|  3000|    USA|    NA|\n",
      "|  Michael|      Rose|        |2000-05-19|     M|  4000|    USA|    NA|\n",
      "|   Robert|          |Williams|1978-09-05|     M|  4000|    USA|    NA|\n",
      "|    Maria|      Anne|   Jones|1967-12-01|     F|  4000|    USA|    NA|\n",
      "|      Jen|      Mary|   Brown|1980-02-17|     F|    -1|    USA|    NA|\n",
      "+---------+----------+--------+----------+------+------+-------+------+\n",
      "\n"
     ]
    }
   ],
   "source": [
    "#dropping column from table\n",
    "df4 = df3.drop(\"test2\")\n",
    "df4.show()"
   ]
  },
  {
   "cell_type": "code",
   "execution_count": 42,
   "id": "0cb457d3",
   "metadata": {},
   "outputs": [],
   "source": [
    "df5 = df4.withColumn(\"salary\",col(\"salary\")*2)"
   ]
  },
  {
   "cell_type": "code",
   "execution_count": 43,
   "id": "1ad13e47",
   "metadata": {},
   "outputs": [
    {
     "name": "stdout",
     "output_type": "stream",
     "text": [
      "+---------+----------+--------+----------+------+------+-------+------+\n",
      "|firstname|middlename|lastname|       dob|gender|salary|Country|dummy1|\n",
      "+---------+----------+--------+----------+------+------+-------+------+\n",
      "|    James|          |   Smith|1991-04-01|     M|  6000|    USA|    NA|\n",
      "|  Michael|      Rose|        |2000-05-19|     M|  8000|    USA|    NA|\n",
      "|   Robert|          |Williams|1978-09-05|     M|  8000|    USA|    NA|\n",
      "|    Maria|      Anne|   Jones|1967-12-01|     F|  8000|    USA|    NA|\n",
      "|      Jen|      Mary|   Brown|1980-02-17|     F|    -2|    USA|    NA|\n",
      "+---------+----------+--------+----------+------+------+-------+------+\n",
      "\n"
     ]
    }
   ],
   "source": [
    "df5.show()"
   ]
  },
  {
   "cell_type": "code",
   "execution_count": 46,
   "id": "a3218688",
   "metadata": {},
   "outputs": [
    {
     "name": "stdout",
     "output_type": "stream",
     "text": [
      "+---------+----------+--------+----------+------+------+-------+------+\n",
      "|firstname|middlename|lastname|       dob|gender|salary|Country|dummy1|\n",
      "+---------+----------+--------+----------+------+------+-------+------+\n",
      "|    James|          |   Smith|1991-04-01|     M|  3001|    USA|    NA|\n",
      "|  Michael|      Rose|        |2000-05-19|     M|  4001|    USA|    NA|\n",
      "|   Robert|          |Williams|1978-09-05|     M|  4001|    USA|    NA|\n",
      "|    Maria|      Anne|   Jones|1967-12-01|     F|  4001|    USA|    NA|\n",
      "|      Jen|      Mary|   Brown|1980-02-17|     F|     0|    USA|    NA|\n",
      "+---------+----------+--------+----------+------+------+-------+------+\n",
      "\n"
     ]
    }
   ],
   "source": [
    "df4.withColumn(\"salary\",col(\"salary\")+1).show()"
   ]
  },
  {
   "cell_type": "code",
   "execution_count": null,
   "id": "d77daa39",
   "metadata": {},
   "outputs": [],
   "source": []
  }
 ],
 "metadata": {
  "kernelspec": {
   "display_name": "Python 3 (ipykernel)",
   "language": "python",
   "name": "python3"
  },
  "language_info": {
   "codemirror_mode": {
    "name": "ipython",
    "version": 3
   },
   "file_extension": ".py",
   "mimetype": "text/x-python",
   "name": "python",
   "nbconvert_exporter": "python",
   "pygments_lexer": "ipython3",
   "version": "3.11.5"
  }
 },
 "nbformat": 4,
 "nbformat_minor": 5
}
